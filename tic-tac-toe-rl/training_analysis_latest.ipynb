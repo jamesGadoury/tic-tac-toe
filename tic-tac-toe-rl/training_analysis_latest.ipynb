{
 "cells": [
  {
   "cell_type": "code",
   "execution_count": null,
   "id": "b6240e45",
   "metadata": {},
   "outputs": [],
   "source": [
    "from pathlib import Path\n",
    "import matplotlib.pyplot as plt\n",
    "import numpy as np\n",
    "import pandas as pd\n",
    "import json"
   ]
  },
  {
   "cell_type": "code",
   "execution_count": null,
   "id": "e02d0539",
   "metadata": {},
   "outputs": [],
   "source": [
    "def load_results_dataframe(dir: Path, pattern: str) -> pd.DataFrame:\n",
    "    \"\"\"\n",
    "    Walks dir for files named 'episodes_*.json', loads them,\n",
    "    and returns a single DataFrame with columns:\n",
    "      - all keys from your JSON records\n",
    "      - 'source_file': the filename each record came from\n",
    "      - 'modified_time': a pandas.Timestamp of the file’s mtime\n",
    "    \n",
    "    Rows are sorted by modified_time (most recent first).\n",
    "    \"\"\"\n",
    "    records = []\n",
    "    \n",
    "    # 1) list files oldest → newest\n",
    "    files = sorted(\n",
    "        dir.glob(pattern),\n",
    "        key=lambda p: p.stat().st_mtime,\n",
    "    )\n",
    "    \n",
    "    for file_idx, path in enumerate(files):\n",
    "        mtime = pd.to_datetime(path.stat().st_mtime, unit=\"s\")\n",
    "        content = json.loads(path.read_text())\n",
    "        \n",
    "        if isinstance(content, list):\n",
    "            for entry_idx, entry in enumerate(content):\n",
    "                rec = dict(entry)\n",
    "                rec.update({\n",
    "                    \"source_file\":   path.name,\n",
    "                    \"modified_time\": mtime,\n",
    "                    \"file_index\":    file_idx,\n",
    "                    \"entry_index\":   entry_idx,\n",
    "                })\n",
    "                records.append(rec)\n",
    "        \n",
    "        elif isinstance(content, dict):\n",
    "            rec = dict(content)\n",
    "            rec.update({\n",
    "                \"source_file\":   path.name,\n",
    "                \"modified_time\": mtime,\n",
    "                \"file_index\":    file_idx,\n",
    "                \"entry_index\":   0,\n",
    "            })\n",
    "            records.append(rec)\n",
    "        \n",
    "        else:\n",
    "            # fallback for other JSON shapes\n",
    "            records.append({\n",
    "                \"source_file\":   path.name,\n",
    "                \"modified_time\": mtime,\n",
    "                \"file_index\":    file_idx,\n",
    "                \"entry_index\":   0,\n",
    "                \"data\":          content,\n",
    "            })\n",
    "    \n",
    "    df = pd.DataFrame(records)\n",
    "    # row‐order == episode‐order\n",
    "    return df\n",
    "\n",
    "def load_episodes_dataframe(dir: Path) -> pd.DataFrame:\n",
    "    return load_results_dataframe(dir=dir, pattern=\"episodes_*.json\")"
   ]
  },
  {
   "cell_type": "code",
   "execution_count": null,
   "id": "18473887",
   "metadata": {},
   "outputs": [],
   "source": [
    "training_dir = Path(\"./outputs/1753594308579026085\")"
   ]
  },
  {
   "cell_type": "code",
   "execution_count": null,
   "id": "b69ac4e1",
   "metadata": {},
   "outputs": [],
   "source": [
    "training_params = json.load(open(training_dir / \"training_params.json\", \"r\"))\n",
    "for k, v in training_params.items():\n",
    "    print(f\"{k}: {v}\")"
   ]
  },
  {
   "cell_type": "code",
   "execution_count": null,
   "id": "b8abb813",
   "metadata": {},
   "outputs": [],
   "source": [
    "episodes = load_episodes_dataframe(training_dir)\n",
    "episodes.head()"
   ]
  },
  {
   "cell_type": "code",
   "execution_count": null,
   "id": "3756af5c",
   "metadata": {},
   "outputs": [],
   "source": [
    "len(episodes)"
   ]
  },
  {
   "cell_type": "code",
   "execution_count": null,
   "id": "6a150110",
   "metadata": {},
   "outputs": [],
   "source": [
    "def get_moving_window_average(data: np.ndarray, window_size: int):\n",
    "    weights = np.ones(window_size) / window_size\n",
    "    moving_avg = np.convolve(data, weights, mode='valid')\n",
    "    return moving_avg"
   ]
  },
  {
   "cell_type": "code",
   "execution_count": null,
   "id": "3a15891a",
   "metadata": {},
   "outputs": [],
   "source": [
    "codes = (episodes[\"final_reward\"].astype(int) + 1).to_numpy()\n",
    "\n",
    "# counts[0] = losses, counts[1] = ties, counts[2] = wins\n",
    "counts = np.bincount(codes, minlength=3)\n",
    "\n",
    "loss_count, tie_count, win_count = counts\n",
    "total_count = counts.sum()\n",
    "\n",
    "print(f\"wins:   {win_count}\")\n",
    "print(f\"ties:   {tie_count}\")\n",
    "print(f\"losses: {loss_count}\")\n",
    "print(f\"total_count: {total_count}\")\n",
    "assert total_count == len(episodes)"
   ]
  },
  {
   "cell_type": "code",
   "execution_count": null,
   "id": "58541941",
   "metadata": {},
   "outputs": [],
   "source": [
    "win_ratio = episodes[\"final_reward\"].eq(1.0).rolling(window=10000).mean()\n",
    "\n",
    "plt.figure()\n",
    "plt.plot(win_ratio)\n",
    "plt.title(f\"Win Ratio (Sliding Window = {10000} episodes)\")\n",
    "plt.xlabel(\"Episode Index\")\n",
    "plt.ylabel(\"Win Ratio\")\n",
    "plt.show()"
   ]
  },
  {
   "cell_type": "code",
   "execution_count": null,
   "id": "3d9c2d2b",
   "metadata": {},
   "outputs": [],
   "source": [
    "tie_ratio = episodes[\"final_reward\"].eq(0.0).rolling(window=10000).mean()\n",
    "\n",
    "plt.figure()\n",
    "plt.plot(tie_ratio)\n",
    "plt.title(f\"Tie Ratio (Sliding Window = {10000} episodes)\")\n",
    "plt.xlabel(\"Episode Index\")\n",
    "plt.ylabel(\"Tie Ratio\")\n",
    "plt.show()\n"
   ]
  },
  {
   "cell_type": "code",
   "execution_count": null,
   "id": "27752645",
   "metadata": {},
   "outputs": [],
   "source": [
    "win_or_tie = episodes[\"final_reward\"].eq(1.0) | episodes[\"final_reward\"].eq(0.0)\n",
    "\n",
    "# Sliding “win+tie” ratio\n",
    "win_tie_ratio = win_or_tie.rolling(window=10000).mean()\n",
    "\n",
    "# Plot it\n",
    "import matplotlib.pyplot as plt\n",
    "\n",
    "plt.figure()\n",
    "plt.plot(win_tie_ratio)\n",
    "plt.title(f\"(Wins + Ties) / {10000}-episode Window\")\n",
    "plt.xlabel(\"Episode Index\")\n",
    "plt.ylabel(\"Win+Tie Ratio\")\n",
    "plt.show()"
   ]
  },
  {
   "cell_type": "code",
   "execution_count": null,
   "id": "4e54cee0",
   "metadata": {},
   "outputs": [],
   "source": [
    "plt.plot(get_moving_window_average(episodes[\"final_reward\"], window_size=10000))\n",
    "plt.title(\"final reward moving window average\")"
   ]
  },
  {
   "cell_type": "code",
   "execution_count": null,
   "id": "e174312c",
   "metadata": {},
   "outputs": [],
   "source": [
    "plt.plot(get_moving_window_average(episodes[\"mean_td_error\"], window_size=10000))\n",
    "plt.title(\"mean td error moving window average\")"
   ]
  },
  {
   "cell_type": "code",
   "execution_count": null,
   "id": "679d2bc7",
   "metadata": {},
   "outputs": [],
   "source": [
    "plt.plot(get_moving_window_average(episodes[\"mean_abs_td_error\"], window_size=10000))\n",
    "plt.title(\"mean abs td error moving window average\")"
   ]
  },
  {
   "cell_type": "code",
   "execution_count": null,
   "id": "6193dfe8",
   "metadata": {},
   "outputs": [],
   "source": [
    "plt.plot(get_moving_window_average(episodes[\"mean_squared_td_error\"], window_size=10000))\n",
    "plt.title(\"mean squared td error moving window average\")"
   ]
  },
  {
   "cell_type": "code",
   "execution_count": null,
   "id": "1734f740",
   "metadata": {},
   "outputs": [],
   "source": [
    "plt.plot(get_moving_window_average(episodes[\"max_abs_td_error\"], window_size=10000))\n",
    "plt.title(\"max abs td error moving window average\")"
   ]
  },
  {
   "cell_type": "code",
   "execution_count": null,
   "id": "a266b243",
   "metadata": {},
   "outputs": [],
   "source": []
  }
 ],
 "metadata": {
  "kernelspec": {
   "display_name": "ml",
   "language": "python",
   "name": "python3"
  },
  "language_info": {
   "codemirror_mode": {
    "name": "ipython",
    "version": 3
   },
   "file_extension": ".py",
   "mimetype": "text/x-python",
   "name": "python",
   "nbconvert_exporter": "python",
   "pygments_lexer": "ipython3",
   "version": "3.12.3"
  }
 },
 "nbformat": 4,
 "nbformat_minor": 5
}
