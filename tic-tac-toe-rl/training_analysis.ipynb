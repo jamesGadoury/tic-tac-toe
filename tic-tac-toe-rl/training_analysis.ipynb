{
 "cells": [
  {
   "cell_type": "code",
   "execution_count": 1,
   "id": "b6240e45",
   "metadata": {},
   "outputs": [],
   "source": [
    "from pathlib import Path\n",
    "import matplotlib.pyplot as plt\n",
    "import numpy as np\n",
    "import pandas as pd\n",
    "import json"
   ]
  },
  {
   "cell_type": "code",
   "execution_count": 10,
   "id": "e02d0539",
   "metadata": {},
   "outputs": [],
   "source": [
    "def load_results_dataframe(dir: Path, pattern: str) -> pd.DataFrame:\n",
    "    \"\"\"\n",
    "    Walks dir for files named 'episodes_*.json', loads them,\n",
    "    and returns a single DataFrame with columns:\n",
    "      - all keys from your JSON records\n",
    "      - 'source_file': the filename each record came from\n",
    "      - 'modified_time': a pandas.Timestamp of the file’s mtime\n",
    "    \n",
    "    Rows are sorted by modified_time (most recent first).\n",
    "    \"\"\"\n",
    "    records = []\n",
    "    \n",
    "    # grab all matching files, then sort by mtime descending\n",
    "    files = sorted(\n",
    "        dir.glob(pattern),\n",
    "        key=lambda p: p.stat().st_mtime,\n",
    "        reverse=True\n",
    "    )\n",
    "    \n",
    "    for path in files:\n",
    "        mtime = pd.to_datetime(path.stat().st_mtime, unit=\"s\")\n",
    "        with path.open(\"r\") as fp:\n",
    "            content = json.load(fp)\n",
    "        \n",
    "        # If the JSON is a list of dicts, expand each entry...\n",
    "        if isinstance(content, list):\n",
    "            for entry in content:\n",
    "                rec = dict(entry)  # shallow copy\n",
    "                rec[\"source_file\"]   = path.name\n",
    "                rec[\"modified_time\"] = mtime\n",
    "                records.append(rec)\n",
    "        # If it’s a single dict, just one row\n",
    "        elif isinstance(content, dict):\n",
    "            rec = dict(content)\n",
    "            rec[\"source_file\"]   = path.name\n",
    "            rec[\"modified_time\"] = mtime\n",
    "            records.append(rec)\n",
    "        else:\n",
    "            # fallback: stash raw content\n",
    "            records.append({\n",
    "                \"source_file\": path.name,\n",
    "                \"modified_time\": mtime,\n",
    "                \"data\": content\n",
    "            })\n",
    "    \n",
    "    # build the DataFrame\n",
    "    df = pd.DataFrame(records)\n",
    "    # ensure sorted by modified_time\n",
    "    df.sort_values(\"modified_time\", ascending=True, inplace=True)\n",
    "    df.reset_index(drop=True, inplace=True)\n",
    "    return df\n",
    "\n",
    "def load_episodes_dataframe(dir: Path) -> pd.DataFrame:\n",
    "    return load_results_dataframe(dir=dir, pattern=\"episodes_*.json\")"
   ]
  },
  {
   "cell_type": "code",
   "execution_count": null,
   "id": "18473887",
   "metadata": {},
   "outputs": [],
   "source": [
    "training_dir = Path(\"./outputs/1753592624458505983\")"
   ]
  },
  {
   "cell_type": "code",
   "execution_count": 19,
   "id": "b69ac4e1",
   "metadata": {},
   "outputs": [
    {
     "name": "stdout",
     "output_type": "stream",
     "text": [
      "n_episodes: 5000000\n",
      "pretrained_dir: None\n",
      "seed: 42\n",
      "learning_rate_max: 0.5\n",
      "learning_rate_min: 0.01\n",
      "learning_rate_decay_rate: 0.99\n",
      "epsilon_max: 1.0\n",
      "epsilon_min: 0.1\n",
      "epsilon_decay_rate: 0.99\n",
      "opponent: RANDOM_AGENT\n",
      "training: 2\n"
     ]
    }
   ],
   "source": [
    "training_params = json.load(open(training_dir / \"training_params.json\", \"r\"))\n",
    "for k, v in training_params.items():\n",
    "    print(f\"{k}: {v}\")"
   ]
  },
  {
   "cell_type": "code",
   "execution_count": null,
   "id": "b8abb813",
   "metadata": {},
   "outputs": [
    {
     "data": {
      "text/html": [
       "<div>\n",
       "<style scoped>\n",
       "    .dataframe tbody tr th:only-of-type {\n",
       "        vertical-align: middle;\n",
       "    }\n",
       "\n",
       "    .dataframe tbody tr th {\n",
       "        vertical-align: top;\n",
       "    }\n",
       "\n",
       "    .dataframe thead th {\n",
       "        text-align: right;\n",
       "    }\n",
       "</style>\n",
       "<table border=\"1\" class=\"dataframe\">\n",
       "  <thead>\n",
       "    <tr style=\"text-align: right;\">\n",
       "      <th></th>\n",
       "      <th>n_updates</th>\n",
       "      <th>mean_td_error</th>\n",
       "      <th>mean_abs_td_error</th>\n",
       "      <th>mean_squared_td_error</th>\n",
       "      <th>max_abs_td_error</th>\n",
       "      <th>final_reward</th>\n",
       "      <th>source_file</th>\n",
       "      <th>modified_time</th>\n",
       "    </tr>\n",
       "  </thead>\n",
       "  <tbody>\n",
       "    <tr>\n",
       "      <th>0</th>\n",
       "      <td>2</td>\n",
       "      <td>0.000000</td>\n",
       "      <td>0.000000</td>\n",
       "      <td>0.000000</td>\n",
       "      <td>0.000000</td>\n",
       "      <td>-1.0</td>\n",
       "      <td>episodes_0.json</td>\n",
       "      <td>2025-07-27 05:03:44.465080500</td>\n",
       "    </tr>\n",
       "    <tr>\n",
       "      <th>1</th>\n",
       "      <td>2</td>\n",
       "      <td>0.022055</td>\n",
       "      <td>0.022055</td>\n",
       "      <td>0.000907</td>\n",
       "      <td>0.042573</td>\n",
       "      <td>-1.0</td>\n",
       "      <td>episodes_500000.json</td>\n",
       "      <td>2025-07-27 05:04:48.785615683</td>\n",
       "    </tr>\n",
       "    <tr>\n",
       "      <th>2</th>\n",
       "      <td>2</td>\n",
       "      <td>-0.318722</td>\n",
       "      <td>0.326080</td>\n",
       "      <td>0.207912</td>\n",
       "      <td>0.644802</td>\n",
       "      <td>-1.0</td>\n",
       "      <td>episodes_500000.json</td>\n",
       "      <td>2025-07-27 05:04:48.785615683</td>\n",
       "    </tr>\n",
       "    <tr>\n",
       "      <th>3</th>\n",
       "      <td>4</td>\n",
       "      <td>0.052569</td>\n",
       "      <td>0.052569</td>\n",
       "      <td>0.010809</td>\n",
       "      <td>0.207915</td>\n",
       "      <td>-0.0</td>\n",
       "      <td>episodes_500000.json</td>\n",
       "      <td>2025-07-27 05:04:48.785615683</td>\n",
       "    </tr>\n",
       "    <tr>\n",
       "      <th>4</th>\n",
       "      <td>4</td>\n",
       "      <td>0.250827</td>\n",
       "      <td>0.251421</td>\n",
       "      <td>0.222185</td>\n",
       "      <td>0.941480</td>\n",
       "      <td>1.0</td>\n",
       "      <td>episodes_500000.json</td>\n",
       "      <td>2025-07-27 05:04:48.785615683</td>\n",
       "    </tr>\n",
       "  </tbody>\n",
       "</table>\n",
       "</div>"
      ],
      "text/plain": [
       "   n_updates  mean_td_error  mean_abs_td_error  mean_squared_td_error  \\\n",
       "0          2       0.000000           0.000000               0.000000   \n",
       "1          2       0.022055           0.022055               0.000907   \n",
       "2          2      -0.318722           0.326080               0.207912   \n",
       "3          4       0.052569           0.052569               0.010809   \n",
       "4          4       0.250827           0.251421               0.222185   \n",
       "\n",
       "   max_abs_td_error  final_reward           source_file  \\\n",
       "0          0.000000          -1.0       episodes_0.json   \n",
       "1          0.042573          -1.0  episodes_500000.json   \n",
       "2          0.644802          -1.0  episodes_500000.json   \n",
       "3          0.207915          -0.0  episodes_500000.json   \n",
       "4          0.941480           1.0  episodes_500000.json   \n",
       "\n",
       "                  modified_time  \n",
       "0 2025-07-27 05:03:44.465080500  \n",
       "1 2025-07-27 05:04:48.785615683  \n",
       "2 2025-07-27 05:04:48.785615683  \n",
       "3 2025-07-27 05:04:48.785615683  \n",
       "4 2025-07-27 05:04:48.785615683  "
      ]
     },
     "execution_count": 12,
     "metadata": {},
     "output_type": "execute_result"
    }
   ],
   "source": [
    "episodes = load_episodes_dataframe(training_dir)\n",
    "episodes.head()"
   ]
  },
  {
   "cell_type": "code",
   "execution_count": 13,
   "id": "3756af5c",
   "metadata": {},
   "outputs": [
    {
     "data": {
      "text/plain": [
       "5000000"
      ]
     },
     "execution_count": 13,
     "metadata": {},
     "output_type": "execute_result"
    }
   ],
   "source": [
    "len(episodes)"
   ]
  },
  {
   "cell_type": "code",
   "execution_count": 14,
   "id": "6a150110",
   "metadata": {},
   "outputs": [],
   "source": [
    "def get_moving_window_average(data: np.ndarray, window_size: int):\n",
    "    weights = np.ones(window_size) / window_size\n",
    "    moving_avg = np.convolve(data, weights, mode='valid')\n",
    "    return moving_avg"
   ]
  },
  {
   "cell_type": "code",
   "execution_count": 16,
   "id": "4e54cee0",
   "metadata": {},
   "outputs": [
    {
     "data": {
      "text/plain": [
       "Text(0.5, 1.0, 'final reward moving window average')"
      ]
     },
     "execution_count": 16,
     "metadata": {},
     "output_type": "execute_result"
    },
    {
     "data": {
      "image/png": "[encoded data removed]",
      "text/plain": [
       "<Figure size 640x480 with 1 Axes>"
      ]
     },
     "metadata": {},
     "output_type": "display_data"
    }
   ],
   "source": [
    "plt.plot(get_moving_window_average(episodes[\"final_reward\"], window_size=10000))\n",
    "plt.title(\"final reward moving window average\")"
   ]
  },
  {
   "cell_type": "code",
   "execution_count": null,
   "id": "e174312c",
   "metadata": {},
   "outputs": [],
   "source": []
  }
 ],
 "metadata": {
  "kernelspec": {
   "display_name": "ml",
   "language": "python",
   "name": "python3"
  },
  "language_info": {
   "codemirror_mode": {
    "name": "ipython",
    "version": 3
   },
   "file_extension": ".py",
   "mimetype": "text/x-python",
   "name": "python",
   "nbconvert_exporter": "python",
   "pygments_lexer": "ipython3",
   "version": "3.12.3"
  }
 },
 "nbformat": 4,
 "nbformat_minor": 5
}
